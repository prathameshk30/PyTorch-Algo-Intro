{
  "nbformat": 4,
  "nbformat_minor": 0,
  "metadata": {
    "colab": {
      "provenance": [],
      "authorship_tag": "ABX9TyPa6cb6aOmXQdtZE68Az8A8",
      "include_colab_link": true
    },
    "kernelspec": {
      "name": "python3",
      "display_name": "Python 3"
    },
    "language_info": {
      "name": "python"
    }
  },
  "cells": [
    {
      "cell_type": "markdown",
      "metadata": {
        "id": "view-in-github",
        "colab_type": "text"
      },
      "source": [
        "<a href=\"https://colab.research.google.com/github/prathameshk30/Pytorch-Algo-Intro/blob/main/Reinforcement__Learning_intro.ipynb\" target=\"_parent\"><img src=\"https://colab.research.google.com/assets/colab-badge.svg\" alt=\"Open In Colab\"/></a>"
      ]
    },
    {
      "cell_type": "code",
      "execution_count": 44,
      "metadata": {
        "id": "lS3OtU5kIuzF"
      },
      "outputs": [],
      "source": [
        "## importing libraries\n",
        "\n",
        "import os\n",
        "import sys\n",
        "import time\n",
        "import numpy as np\n",
        "import matplotlib.pyplot as plt"
      ]
    },
    {
      "cell_type": "markdown",
      "source": [
        "Q.1 ) Consider a k-armed bandit problem with k = 4 actions, denoted as 1, 2, 3, and 4. Consider applying to this problem a bandit algorithm using ε-greedy action selection, sample-average action-value estimates, and initial estimates of Q₁(a) = 0, for all a. Suppose the initial sequence of actions and rewards is A₁ = 1, R₁ = 1, A₂ = 2, R₂ = 1, A₃ = 2, R₃ = 2, A₄ = 2, R₄ = 2, A₅ = 3, R₅ = 0. On some of these time steps the ε case may have occurred, causing an action to be selected at random. On which time steps did this definitely occur? On which time steps could this possibly have occurred?"
      ],
      "metadata": {
        "id": "uJUtwauzJCSc"
      }
    },
    {
      "cell_type": "markdown",
      "source": [
        "![image.png](data:image/png;base64,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)"
      ],
      "metadata": {
        "id": "5n98PzCzI84M"
      }
    },
    {
      "cell_type": "code",
      "source": [
        "class Bandit_problem(object):\n",
        "  def __init__(self, Mean_values_of_events: dict[int], epsilon: int, total_steps: int):\n",
        "    '''\n",
        "    Mean_values_of_events is the list of mean values of the events (scores of player, mean return of investment)\n",
        "    epsilon is the probability value to be used for the selecteing the non greedy action\n",
        "    total steps for the test to run\n",
        "\n",
        "    epsilon should be a value between 0 to 1\n",
        "    '''\n",
        "    # Define the values\n",
        "    self.Mean_values_of_events= [keys for keys in Mean_values_of_events.keys()]\n",
        "    self.standard_Deviation_of_events= [values for values in Mean_values_of_events.values()]\n",
        "    self.epsilon= epsilon\n",
        "    self.total_steps= total_steps\n",
        "\n",
        "    # number of the arms\n",
        "    self.armNumber= np.size(self.Mean_values_of_events)\n",
        "\n",
        "    # vector to track to the how many times a arm is selected\n",
        "    self.armTrack= np.zeros(self.armNumber)\n",
        "\n",
        "    # vector to store the mean rewards of the arm\n",
        "    self.armMeanReward= np.zeros(self.armNumber)\n",
        "\n",
        "    # current step\n",
        "    self.currentStep= 0\n",
        "\n",
        "    # current reward\n",
        "    self.currentReward= 0\n",
        "\n",
        "    # mean reward\n",
        "    self.meanReward=np.zeros(self.total_steps+1)\n",
        "\n",
        "  '''\n",
        "  Take action basedon eplison - greedy approach\n",
        "  '''\n",
        "\n",
        "  def takeAction(self):\n",
        "    '''\n",
        "    in this function we select the the course of our action based the randomly generated probability value,\n",
        "    if the probability value is less than the epsilon value then we randomly select the arm,\n",
        "    else we select the arm that gives the max reward\n",
        "    '''\n",
        "    probabilityValue=np.random.rand()\n",
        "\n",
        "    if (self.currentStep==0) or (probabilityValue < self.epsilon):\n",
        "      selectedArmIndex=np.random.choice(self.armNumber)\n",
        "\n",
        "    elif (probabilityValue > self.epsilon):\n",
        "      selectedArmIndex= np.argmax(self.armMeanReward)\n",
        "\n",
        "    # increase the step value\n",
        "    self.currentStep= self.currentStep + 1\n",
        "\n",
        "    # record of which arm is selected\n",
        "    self.armTrack[selectedArmIndex]= self.armTrack[selectedArmIndex] + 1\n",
        "\n",
        "    # generate the values of reward for the selected action fromm the normal distribution of the reward\n",
        "    self.currentReward=np.random.normal(self.Mean_values_of_events[selectedArmIndex], self.standard_Deviation_of_events[selectedArmIndex])\n",
        "\n",
        "    # update the reward to current arm mean\n",
        "    self.armMeanReward[selectedArmIndex]=  self.Mean_values_of_events[selectedArmIndex] + (1/(self.armTrack[selectedArmIndex])*(self.currentReward- self.Mean_values_of_events[selectedArmIndex]))\n",
        "\n",
        "    # update the mean reward\n",
        "    self.meanReward[self.currentStep]=self.meanReward[self.currentStep-1]+(1/(self.currentStep))*(self.currentReward-self.meanReward[self.currentStep-1])\n",
        "\n",
        "  # run the simulation\n",
        "  def playGame(self):\n",
        "    for i in range(self.total_steps):\n",
        "        self.takeAction()"
      ],
      "metadata": {
        "id": "8DzudM-NI3Sl"
      },
      "execution_count": 31,
      "outputs": []
    },
    {
      "cell_type": "code",
      "source": [
        "# Define the totaal steps\n",
        "total_steps=500\n",
        "\n",
        "# Define the epsilon\n",
        "epsilon= 0.3\n",
        "\n",
        "\n",
        "bandit_problems=Bandit_problem({4:2,5:2,8:6}, epsilon=epsilon, total_steps=total_steps)\n",
        "bandit_problems.playGame()"
      ],
      "metadata": {
        "id": "oAZ3OuDLTlHt"
      },
      "execution_count": 46,
      "outputs": []
    },
    {
      "cell_type": "code",
      "source": [
        "epsilonMeanReward_1=bandit_problems.meanReward"
      ],
      "metadata": {
        "id": "7WbP0klHOC-U"
      },
      "execution_count": 47,
      "outputs": []
    },
    {
      "cell_type": "code",
      "source": [
        "plt.plot(np.arange(total_steps+1),epsilonMeanReward_1,linewidth=2, color='r', label='epsilon =0')"
      ],
      "metadata": {
        "colab": {
          "base_uri": "https://localhost:8080/",
          "height": 447
        },
        "id": "yrRdp5zbOXHD",
        "outputId": "f888d511-3c59-431a-a324-5704ca32ab27"
      },
      "execution_count": 48,
      "outputs": [
        {
          "output_type": "execute_result",
          "data": {
            "text/plain": [
              "[<matplotlib.lines.Line2D at 0x784033a1f0a0>]"
            ]
          },
          "metadata": {},
          "execution_count": 48
        },
        {
          "output_type": "display_data",
          "data": {
            "text/plain": [
              "<Figure size 640x480 with 1 Axes>"
            ],
            "image/png": "[encoded data removed]"
          },
          "metadata": {}
        }
      ]
    },
    {
      "cell_type": "code",
      "source": [],
      "metadata": {
        "id": "_Pjo1RhpP8k4"
      },
      "execution_count": null,
      "outputs": []
    }
  ]
}