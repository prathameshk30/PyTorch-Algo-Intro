{
  "nbformat": 4,
  "nbformat_minor": 0,
  "metadata": {
    "colab": {
      "provenance": [],
      "authorship_tag": "ABX9TyM0MO/uC/6ac2tW5w3VcSbn",
      "include_colab_link": true
    },
    "kernelspec": {
      "name": "python3",
      "display_name": "Python 3"
    },
    "language_info": {
      "name": "python"
    }
  },
  "cells": [
    {
      "cell_type": "markdown",
      "metadata": {
        "id": "view-in-github",
        "colab_type": "text"
      },
      "source": [
        "<a href=\"https://colab.research.google.com/github/prathameshk30/Pytorch-Learning/blob/main/PyTorch_practice.ipynb\" target=\"_parent\"><img src=\"https://colab.research.google.com/assets/colab-badge.svg\" alt=\"Open In Colab\"/></a>"
      ]
    },
    {
      "cell_type": "code",
      "execution_count": 1,
      "metadata": {
        "colab": {
          "base_uri": "https://localhost:8080/"
        },
        "id": "ZQzq-HgAKYjJ",
        "outputId": "58ed767c-ef07-4a82-a4f1-a29b101292a4"
      },
      "outputs": [
        {
          "output_type": "stream",
          "name": "stdout",
          "text": [
            "2.0.1+cu118\n"
          ]
        }
      ],
      "source": [
        "import torch\n",
        "import pandas as pd\n",
        "import numpy as np\n",
        "import matplotlib.pyplot as plt\n",
        "print(torch.__version__)"
      ]
    },
    {
      "cell_type": "markdown",
      "source": [
        "#### Tensor"
      ],
      "metadata": {
        "id": "3GpqU27sLjcS"
      }
    },
    {
      "cell_type": "code",
      "source": [
        "# scalar\n",
        "scalar=torch.tensor(7)\n",
        "scalar"
      ],
      "metadata": {
        "colab": {
          "base_uri": "https://localhost:8080/"
        },
        "id": "S5oH-8b7K9w_",
        "outputId": "4dbdf3b7-4e8b-4435-f95d-ebb6d6ba8334"
      },
      "execution_count": 2,
      "outputs": [
        {
          "output_type": "execute_result",
          "data": {
            "text/plain": [
              "tensor(7)"
            ]
          },
          "metadata": {},
          "execution_count": 2
        }
      ]
    },
    {
      "cell_type": "code",
      "source": [
        "scalar.ndim"
      ],
      "metadata": {
        "colab": {
          "base_uri": "https://localhost:8080/"
        },
        "id": "gUDK_yVgLJKq",
        "outputId": "b485ec0b-b40d-4be6-ebff-adcdaefa575b"
      },
      "execution_count": 3,
      "outputs": [
        {
          "output_type": "execute_result",
          "data": {
            "text/plain": [
              "0"
            ]
          },
          "metadata": {},
          "execution_count": 3
        }
      ]
    },
    {
      "cell_type": "code",
      "source": [
        "scalar.item()"
      ],
      "metadata": {
        "colab": {
          "base_uri": "https://localhost:8080/"
        },
        "id": "VbFFYga8Lm6P",
        "outputId": "b6f353eb-4f26-42ac-fe66-daab4e2efe4a"
      },
      "execution_count": 4,
      "outputs": [
        {
          "output_type": "execute_result",
          "data": {
            "text/plain": [
              "7"
            ]
          },
          "metadata": {},
          "execution_count": 4
        }
      ]
    },
    {
      "cell_type": "code",
      "source": [
        "vector=torch.tensor([8,8])\n",
        "vector"
      ],
      "metadata": {
        "colab": {
          "base_uri": "https://localhost:8080/"
        },
        "id": "FAcwRJ4zLr3N",
        "outputId": "eb07e9a9-ac29-4351-b23c-970700ad3db1"
      },
      "execution_count": 5,
      "outputs": [
        {
          "output_type": "execute_result",
          "data": {
            "text/plain": [
              "tensor([8, 8])"
            ]
          },
          "metadata": {},
          "execution_count": 5
        }
      ]
    },
    {
      "cell_type": "code",
      "source": [
        "vector.ndim"
      ],
      "metadata": {
        "colab": {
          "base_uri": "https://localhost:8080/"
        },
        "id": "a8tz2Bz6L_Nv",
        "outputId": "cf81fe1a-b954-459e-fb93-c705d9add93b"
      },
      "execution_count": 6,
      "outputs": [
        {
          "output_type": "execute_result",
          "data": {
            "text/plain": [
              "1"
            ]
          },
          "metadata": {},
          "execution_count": 6
        }
      ]
    },
    {
      "cell_type": "code",
      "source": [
        "vector.shape"
      ],
      "metadata": {
        "colab": {
          "base_uri": "https://localhost:8080/"
        },
        "id": "QCWTQOQLMBTz",
        "outputId": "e580c182-c727-4024-8d79-1fcb1dc2dd50"
      },
      "execution_count": 7,
      "outputs": [
        {
          "output_type": "execute_result",
          "data": {
            "text/plain": [
              "torch.Size([2])"
            ]
          },
          "metadata": {},
          "execution_count": 7
        }
      ]
    },
    {
      "cell_type": "code",
      "source": [
        "matrix= torch.tensor([[5,5,5],\n",
        "                      [5,5,5]])\n",
        "matrix"
      ],
      "metadata": {
        "colab": {
          "base_uri": "https://localhost:8080/"
        },
        "id": "K2Ei3Uv4MDJq",
        "outputId": "b4d6d8a6-8e98-4666-917e-426607624eb3"
      },
      "execution_count": 8,
      "outputs": [
        {
          "output_type": "execute_result",
          "data": {
            "text/plain": [
              "tensor([[5, 5, 5],\n",
              "        [5, 5, 5]])"
            ]
          },
          "metadata": {},
          "execution_count": 8
        }
      ]
    },
    {
      "cell_type": "code",
      "source": [
        "matrix.ndim"
      ],
      "metadata": {
        "colab": {
          "base_uri": "https://localhost:8080/"
        },
        "id": "n2EPQwsLNnZY",
        "outputId": "83a695d9-6948-410c-f93d-4f270fba966f"
      },
      "execution_count": 9,
      "outputs": [
        {
          "output_type": "execute_result",
          "data": {
            "text/plain": [
              "2"
            ]
          },
          "metadata": {},
          "execution_count": 9
        }
      ]
    },
    {
      "cell_type": "code",
      "source": [
        "matrix.shape"
      ],
      "metadata": {
        "colab": {
          "base_uri": "https://localhost:8080/"
        },
        "id": "J9bFCW4wNqWt",
        "outputId": "b8b09fec-1868-4403-8a96-701d43b55309"
      },
      "execution_count": 10,
      "outputs": [
        {
          "output_type": "execute_result",
          "data": {
            "text/plain": [
              "torch.Size([2, 3])"
            ]
          },
          "metadata": {},
          "execution_count": 10
        }
      ]
    },
    {
      "cell_type": "code",
      "source": [
        "TENSOR=torch.tensor([[[1,2,3],\n",
        "                     [1,2,3],\n",
        "                     [1,2,3]]])\n",
        "TENSOR.ndim"
      ],
      "metadata": {
        "colab": {
          "base_uri": "https://localhost:8080/"
        },
        "id": "7Hp2DJhCNsrF",
        "outputId": "3011b91d-def6-422b-8880-6bc7c1b2d52b"
      },
      "execution_count": 11,
      "outputs": [
        {
          "output_type": "execute_result",
          "data": {
            "text/plain": [
              "3"
            ]
          },
          "metadata": {},
          "execution_count": 11
        }
      ]
    },
    {
      "cell_type": "code",
      "source": [
        "TENSOR.shape"
      ],
      "metadata": {
        "colab": {
          "base_uri": "https://localhost:8080/"
        },
        "id": "j32cdM9ew0eS",
        "outputId": "b3934ab3-10ee-4b22-a27b-e01ec6fe1483"
      },
      "execution_count": 12,
      "outputs": [
        {
          "output_type": "execute_result",
          "data": {
            "text/plain": [
              "torch.Size([1, 3, 3])"
            ]
          },
          "metadata": {},
          "execution_count": 12
        }
      ]
    },
    {
      "cell_type": "code",
      "source": [
        "TENSOR[0]"
      ],
      "metadata": {
        "colab": {
          "base_uri": "https://localhost:8080/"
        },
        "id": "V-BFljLMw2uf",
        "outputId": "dc4ec130-69b7-40e4-c497-a6e0465f2dff"
      },
      "execution_count": 13,
      "outputs": [
        {
          "output_type": "execute_result",
          "data": {
            "text/plain": [
              "tensor([[1, 2, 3],\n",
              "        [1, 2, 3],\n",
              "        [1, 2, 3]])"
            ]
          },
          "metadata": {},
          "execution_count": 13
        }
      ]
    },
    {
      "cell_type": "code",
      "source": [
        "random_tensor=torch.rand(3,4)\n",
        "random_tensor"
      ],
      "metadata": {
        "colab": {
          "base_uri": "https://localhost:8080/"
        },
        "id": "AmsbS87xw68O",
        "outputId": "50f410ef-af53-4e00-cb1c-6ad6106bc6db"
      },
      "execution_count": 14,
      "outputs": [
        {
          "output_type": "execute_result",
          "data": {
            "text/plain": [
              "tensor([[0.9987, 0.7542, 0.5654, 0.5819],\n",
              "        [0.5629, 0.1815, 0.4117, 0.0207],\n",
              "        [0.2918, 0.7257, 0.3046, 0.9787]])"
            ]
          },
          "metadata": {},
          "execution_count": 14
        }
      ]
    },
    {
      "cell_type": "code",
      "source": [
        "random_tensor.ndim"
      ],
      "metadata": {
        "colab": {
          "base_uri": "https://localhost:8080/"
        },
        "id": "WqA2eKTvxSjG",
        "outputId": "1173bbfc-07a9-4394-cc9c-4a945674c36c"
      },
      "execution_count": 15,
      "outputs": [
        {
          "output_type": "execute_result",
          "data": {
            "text/plain": [
              "2"
            ]
          },
          "metadata": {},
          "execution_count": 15
        }
      ]
    },
    {
      "cell_type": "code",
      "source": [
        "random_tensor=torch.rand(size=(224,224,3))\n",
        "random_tensor"
      ],
      "metadata": {
        "colab": {
          "base_uri": "https://localhost:8080/"
        },
        "id": "fvHijBvVxXew",
        "outputId": "c497ae21-b2c8-49ef-9d07-2d3ea2e1c45d"
      },
      "execution_count": 16,
      "outputs": [
        {
          "output_type": "execute_result",
          "data": {
            "text/plain": [
              "tensor([[[0.0548, 0.7641, 0.7570],\n",
              "         [0.6687, 0.9122, 0.2993],\n",
              "         [0.6656, 0.3156, 0.1343],\n",
              "         ...,\n",
              "         [0.1813, 0.4325, 0.9869],\n",
              "         [0.5693, 0.5024, 0.8894],\n",
              "         [0.6031, 0.5440, 0.7464]],\n",
              "\n",
              "        [[0.3633, 0.2901, 0.8511],\n",
              "         [0.0028, 0.1263, 0.7135],\n",
              "         [0.9897, 0.9458, 0.4071],\n",
              "         ...,\n",
              "         [0.1276, 0.6375, 0.4333],\n",
              "         [0.3821, 0.2236, 0.4201],\n",
              "         [0.7482, 0.7835, 0.1999]],\n",
              "\n",
              "        [[0.7618, 0.2469, 0.6922],\n",
              "         [0.6972, 0.7001, 0.1768],\n",
              "         [0.8072, 0.8651, 0.8271],\n",
              "         ...,\n",
              "         [0.1112, 0.4220, 0.3662],\n",
              "         [0.2614, 0.3493, 0.0113],\n",
              "         [0.0699, 0.1986, 0.1887]],\n",
              "\n",
              "        ...,\n",
              "\n",
              "        [[0.2328, 0.2728, 0.2949],\n",
              "         [0.1767, 0.4742, 0.6708],\n",
              "         [0.1726, 0.8799, 0.1100],\n",
              "         ...,\n",
              "         [0.7804, 0.2321, 0.6881],\n",
              "         [0.0104, 0.2522, 0.2949],\n",
              "         [0.4805, 0.1560, 0.3405]],\n",
              "\n",
              "        [[0.9345, 0.0696, 0.2073],\n",
              "         [0.3118, 0.7046, 0.8378],\n",
              "         [0.6191, 0.8918, 0.3120],\n",
              "         ...,\n",
              "         [0.3762, 0.6223, 0.1064],\n",
              "         [0.1334, 0.4501, 0.0055],\n",
              "         [0.3690, 0.8281, 0.5554]],\n",
              "\n",
              "        [[0.5423, 0.7950, 0.4502],\n",
              "         [0.9820, 0.1423, 0.7197],\n",
              "         [0.2743, 0.1978, 0.5777],\n",
              "         ...,\n",
              "         [0.9194, 0.7611, 0.1296],\n",
              "         [0.8048, 0.2760, 0.9207],\n",
              "         [0.7015, 0.0495, 0.9559]]])"
            ]
          },
          "metadata": {},
          "execution_count": 16
        }
      ]
    },
    {
      "cell_type": "code",
      "source": [
        "random_tensor.shape"
      ],
      "metadata": {
        "colab": {
          "base_uri": "https://localhost:8080/"
        },
        "id": "lhswCYCnxoTa",
        "outputId": "86a97e75-9f98-4324-940a-0b3fab570f02"
      },
      "execution_count": 17,
      "outputs": [
        {
          "output_type": "execute_result",
          "data": {
            "text/plain": [
              "torch.Size([224, 224, 3])"
            ]
          },
          "metadata": {},
          "execution_count": 17
        }
      ]
    },
    {
      "cell_type": "code",
      "source": [
        "tensor_zero=torch.zeros(3,4)\n",
        "tensor_zero"
      ],
      "metadata": {
        "colab": {
          "base_uri": "https://localhost:8080/"
        },
        "id": "YpLQrRJ4xtSl",
        "outputId": "dd0f8fde-b0fa-4a1e-de89-c3a46b02ae6f"
      },
      "execution_count": 18,
      "outputs": [
        {
          "output_type": "execute_result",
          "data": {
            "text/plain": [
              "tensor([[0., 0., 0., 0.],\n",
              "        [0., 0., 0., 0.],\n",
              "        [0., 0., 0., 0.]])"
            ]
          },
          "metadata": {},
          "execution_count": 18
        }
      ]
    },
    {
      "cell_type": "code",
      "source": [
        "tensor_one=torch.ones(3,4)\n",
        "tensor_one"
      ],
      "metadata": {
        "colab": {
          "base_uri": "https://localhost:8080/"
        },
        "id": "V2BzzEcv0FaX",
        "outputId": "95ed9c36-e885-41cd-cc43-681353b2e1b1"
      },
      "execution_count": 19,
      "outputs": [
        {
          "output_type": "execute_result",
          "data": {
            "text/plain": [
              "tensor([[1., 1., 1., 1.],\n",
              "        [1., 1., 1., 1.],\n",
              "        [1., 1., 1., 1.]])"
            ]
          },
          "metadata": {},
          "execution_count": 19
        }
      ]
    },
    {
      "cell_type": "code",
      "source": [
        "one_to_ten=torch.arange(start=1,end=11, step=1)\n",
        "one_to_ten"
      ],
      "metadata": {
        "colab": {
          "base_uri": "https://localhost:8080/"
        },
        "id": "z1oOFXad0UY5",
        "outputId": "adf4834b-a51f-40d1-8262-d62ca8183b77"
      },
      "execution_count": 20,
      "outputs": [
        {
          "output_type": "execute_result",
          "data": {
            "text/plain": [
              "tensor([ 1,  2,  3,  4,  5,  6,  7,  8,  9, 10])"
            ]
          },
          "metadata": {},
          "execution_count": 20
        }
      ]
    },
    {
      "cell_type": "code",
      "source": [
        "ten_ones=torch.ones_like(input=one_to_ten)\n",
        "ten_ones"
      ],
      "metadata": {
        "colab": {
          "base_uri": "https://localhost:8080/"
        },
        "id": "ki1KY0LF1Z03",
        "outputId": "8bebe8c0-bbec-436c-a0f1-45fc026404ee"
      },
      "execution_count": 21,
      "outputs": [
        {
          "output_type": "execute_result",
          "data": {
            "text/plain": [
              "tensor([1, 1, 1, 1, 1, 1, 1, 1, 1, 1])"
            ]
          },
          "metadata": {},
          "execution_count": 21
        }
      ]
    },
    {
      "cell_type": "code",
      "source": [
        "tensor_32=torch.rand((2,3),dtype=torch.float32)\n",
        "tensor_32"
      ],
      "metadata": {
        "colab": {
          "base_uri": "https://localhost:8080/"
        },
        "id": "_LopL0dj5WrC",
        "outputId": "46441e01-f4b9-4d81-a366-7b4d740dba41"
      },
      "execution_count": 22,
      "outputs": [
        {
          "output_type": "execute_result",
          "data": {
            "text/plain": [
              "tensor([[0.9060, 0.9215, 0.6435],\n",
              "        [0.9903, 0.0341, 0.7846]])"
            ]
          },
          "metadata": {},
          "execution_count": 22
        }
      ]
    },
    {
      "cell_type": "code",
      "source": [
        "tensor_16=tensor_32.type(torch.float16)\n",
        "tensor_16"
      ],
      "metadata": {
        "colab": {
          "base_uri": "https://localhost:8080/"
        },
        "id": "vemb2hSg7OyX",
        "outputId": "f15438db-640d-4c52-c30d-395268765f3c"
      },
      "execution_count": 23,
      "outputs": [
        {
          "output_type": "execute_result",
          "data": {
            "text/plain": [
              "tensor([[0.9058, 0.9214, 0.6436],\n",
              "        [0.9902, 0.0341, 0.7847]], dtype=torch.float16)"
            ]
          },
          "metadata": {},
          "execution_count": 23
        }
      ]
    },
    {
      "cell_type": "code",
      "source": [
        "a=tensor_32*tensor_16\n",
        "a.dtype"
      ],
      "metadata": {
        "colab": {
          "base_uri": "https://localhost:8080/"
        },
        "id": "G2KkmQgA79G2",
        "outputId": "605e495e-02b2-44f1-d987-70a29deca4b6"
      },
      "execution_count": 24,
      "outputs": [
        {
          "output_type": "execute_result",
          "data": {
            "text/plain": [
              "torch.float32"
            ]
          },
          "metadata": {},
          "execution_count": 24
        }
      ]
    },
    {
      "cell_type": "code",
      "source": [
        "tensor=torch.rand((2,4))\n",
        "tensor"
      ],
      "metadata": {
        "colab": {
          "base_uri": "https://localhost:8080/"
        },
        "id": "fPSr3VHs8Id2",
        "outputId": "955d25a2-8986-4db4-d9ad-0c966c6384bd"
      },
      "execution_count": 25,
      "outputs": [
        {
          "output_type": "execute_result",
          "data": {
            "text/plain": [
              "tensor([[0.0859, 0.0080, 0.9837, 0.4303],\n",
              "        [0.9773, 0.9519, 0.5811, 0.2723]])"
            ]
          },
          "metadata": {},
          "execution_count": 25
        }
      ]
    },
    {
      "cell_type": "code",
      "source": [
        "tensor=tensor.add(10)\n",
        "tensor"
      ],
      "metadata": {
        "colab": {
          "base_uri": "https://localhost:8080/"
        },
        "id": "RzPUEZ9VFmZL",
        "outputId": "60143446-742c-41fc-adad-76dc4d775829"
      },
      "execution_count": 26,
      "outputs": [
        {
          "output_type": "execute_result",
          "data": {
            "text/plain": [
              "tensor([[10.0859, 10.0080, 10.9837, 10.4303],\n",
              "        [10.9773, 10.9519, 10.5811, 10.2723]])"
            ]
          },
          "metadata": {},
          "execution_count": 26
        }
      ]
    },
    {
      "cell_type": "code",
      "source": [
        "torch.matmul(tensor,tensor.reshape(4,2))"
      ],
      "metadata": {
        "colab": {
          "base_uri": "https://localhost:8080/"
        },
        "id": "RSTUIm5hFr2P",
        "outputId": "25864c2c-dff8-475c-fb20-bd80c3325119"
      },
      "execution_count": 27,
      "outputs": [
        {
          "output_type": "execute_result",
          "data": {
            "text/plain": [
              "tensor([[442.5871, 432.7626],\n",
              "        [455.8533, 445.4961]])"
            ]
          },
          "metadata": {},
          "execution_count": 27
        }
      ]
    },
    {
      "cell_type": "code",
      "source": [
        "torch.matmul(tensor,tensor.T)"
      ],
      "metadata": {
        "colab": {
          "base_uri": "https://localhost:8080/"
        },
        "id": "Y7fu0BCEF0Fe",
        "outputId": "451b0d74-71e0-4bd5-80b0-4c6c570c4554"
      },
      "execution_count": 28,
      "outputs": [
        {
          "output_type": "execute_result",
          "data": {
            "text/plain": [
              "tensor([[431.3198, 443.6863],\n",
              "        [443.6863, 457.9253]])"
            ]
          },
          "metadata": {},
          "execution_count": 28
        }
      ]
    },
    {
      "cell_type": "code",
      "source": [
        "tensor.shape"
      ],
      "metadata": {
        "colab": {
          "base_uri": "https://localhost:8080/"
        },
        "id": "W5EZ0iV6F0CB",
        "outputId": "ef2320ba-7a7b-4f51-f12e-c678b5f053d1"
      },
      "execution_count": 29,
      "outputs": [
        {
          "output_type": "execute_result",
          "data": {
            "text/plain": [
              "torch.Size([2, 4])"
            ]
          },
          "metadata": {},
          "execution_count": 29
        }
      ]
    },
    {
      "cell_type": "code",
      "source": [
        "tensor.T"
      ],
      "metadata": {
        "colab": {
          "base_uri": "https://localhost:8080/"
        },
        "id": "l7GcLHEFF0AQ",
        "outputId": "0b6fbb58-2c89-43c2-a45c-46e34731587d"
      },
      "execution_count": 30,
      "outputs": [
        {
          "output_type": "execute_result",
          "data": {
            "text/plain": [
              "tensor([[10.0859, 10.9773],\n",
              "        [10.0080, 10.9519],\n",
              "        [10.9837, 10.5811],\n",
              "        [10.4303, 10.2723]])"
            ]
          },
          "metadata": {},
          "execution_count": 30
        }
      ]
    },
    {
      "cell_type": "code",
      "source": [
        "tensor.reshape(4,2)"
      ],
      "metadata": {
        "colab": {
          "base_uri": "https://localhost:8080/"
        },
        "id": "mR-qmJAoFz9A",
        "outputId": "685d2c94-deaf-4517-ac49-7d2d395442ab"
      },
      "execution_count": 31,
      "outputs": [
        {
          "output_type": "execute_result",
          "data": {
            "text/plain": [
              "tensor([[10.0859, 10.0080],\n",
              "        [10.9837, 10.4303],\n",
              "        [10.9773, 10.9519],\n",
              "        [10.5811, 10.2723]])"
            ]
          },
          "metadata": {},
          "execution_count": 31
        }
      ]
    },
    {
      "cell_type": "code",
      "source": [
        "x=torch.arange(2,20,2)\n",
        "x"
      ],
      "metadata": {
        "colab": {
          "base_uri": "https://localhost:8080/"
        },
        "id": "zy6s5C0m4l3D",
        "outputId": "ab4c6fe6-285f-4066-8931-0234ccc1a879"
      },
      "execution_count": 32,
      "outputs": [
        {
          "output_type": "execute_result",
          "data": {
            "text/plain": [
              "tensor([ 2,  4,  6,  8, 10, 12, 14, 16, 18])"
            ]
          },
          "metadata": {},
          "execution_count": 32
        }
      ]
    },
    {
      "cell_type": "code",
      "source": [
        "x.argmin()"
      ],
      "metadata": {
        "colab": {
          "base_uri": "https://localhost:8080/"
        },
        "id": "-pIgnWG_94Jg",
        "outputId": "630361b8-afb3-44da-c4ad-f7f8a3d8827c"
      },
      "execution_count": 33,
      "outputs": [
        {
          "output_type": "execute_result",
          "data": {
            "text/plain": [
              "tensor(0)"
            ]
          },
          "metadata": {},
          "execution_count": 33
        }
      ]
    },
    {
      "cell_type": "code",
      "source": [
        "y=torch.rand(2,5)\n",
        "y"
      ],
      "metadata": {
        "colab": {
          "base_uri": "https://localhost:8080/"
        },
        "id": "szQoV5Y1-Kxo",
        "outputId": "e90f19eb-8aaa-4c9a-e633-78711a083018"
      },
      "execution_count": 34,
      "outputs": [
        {
          "output_type": "execute_result",
          "data": {
            "text/plain": [
              "tensor([[0.1434, 0.2147, 0.9550, 0.0821, 0.9043],\n",
              "        [0.4801, 0.5481, 0.4925, 0.0354, 0.2076]])"
            ]
          },
          "metadata": {},
          "execution_count": 34
        }
      ]
    },
    {
      "cell_type": "code",
      "source": [
        "y.argmin()"
      ],
      "metadata": {
        "id": "gC4FpxXN-Qou",
        "outputId": "571e0714-0380-4d9a-95d4-880c08a91c51",
        "colab": {
          "base_uri": "https://localhost:8080/"
        }
      },
      "execution_count": 35,
      "outputs": [
        {
          "output_type": "execute_result",
          "data": {
            "text/plain": [
              "tensor(8)"
            ]
          },
          "metadata": {},
          "execution_count": 35
        }
      ]
    },
    {
      "cell_type": "code",
      "source": [
        "z=y.view(10,1)\n",
        "z, z.shape"
      ],
      "metadata": {
        "id": "6131-Oqh-TnR",
        "colab": {
          "base_uri": "https://localhost:8080/"
        },
        "outputId": "dc753bba-0bba-46d3-ddad-4cf0747a47de"
      },
      "execution_count": 36,
      "outputs": [
        {
          "output_type": "execute_result",
          "data": {
            "text/plain": [
              "(tensor([[0.1434],\n",
              "         [0.2147],\n",
              "         [0.9550],\n",
              "         [0.0821],\n",
              "         [0.9043],\n",
              "         [0.4801],\n",
              "         [0.5481],\n",
              "         [0.4925],\n",
              "         [0.0354],\n",
              "         [0.2076]]),\n",
              " torch.Size([10, 1]))"
            ]
          },
          "metadata": {},
          "execution_count": 36
        }
      ]
    },
    {
      "cell_type": "code",
      "source": [
        "z[:,0]=5"
      ],
      "metadata": {
        "id": "dop-hLIvK-0K"
      },
      "execution_count": 37,
      "outputs": []
    },
    {
      "cell_type": "code",
      "source": [
        "z,y"
      ],
      "metadata": {
        "colab": {
          "base_uri": "https://localhost:8080/"
        },
        "id": "7EUSMqdaLHdV",
        "outputId": "a98e2737-f95e-4785-a60d-349afee9f180"
      },
      "execution_count": 38,
      "outputs": [
        {
          "output_type": "execute_result",
          "data": {
            "text/plain": [
              "(tensor([[5.],\n",
              "         [5.],\n",
              "         [5.],\n",
              "         [5.],\n",
              "         [5.],\n",
              "         [5.],\n",
              "         [5.],\n",
              "         [5.],\n",
              "         [5.],\n",
              "         [5.]]),\n",
              " tensor([[5., 5., 5., 5., 5.],\n",
              "         [5., 5., 5., 5., 5.]]))"
            ]
          },
          "metadata": {},
          "execution_count": 38
        }
      ]
    },
    {
      "cell_type": "code",
      "source": [
        "y_stacked=torch.stack([y,y,y], dim=2)\n",
        "y_stacked"
      ],
      "metadata": {
        "colab": {
          "base_uri": "https://localhost:8080/"
        },
        "id": "sNeJGq2yMqm4",
        "outputId": "9b4d6b43-bc02-40aa-d302-3457b53bb838"
      },
      "execution_count": 39,
      "outputs": [
        {
          "output_type": "execute_result",
          "data": {
            "text/plain": [
              "tensor([[[5., 5., 5.],\n",
              "         [5., 5., 5.],\n",
              "         [5., 5., 5.],\n",
              "         [5., 5., 5.],\n",
              "         [5., 5., 5.]],\n",
              "\n",
              "        [[5., 5., 5.],\n",
              "         [5., 5., 5.],\n",
              "         [5., 5., 5.],\n",
              "         [5., 5., 5.],\n",
              "         [5., 5., 5.]]])"
            ]
          },
          "metadata": {},
          "execution_count": 39
        }
      ]
    },
    {
      "cell_type": "code",
      "source": [
        "y_stacked.shape"
      ],
      "metadata": {
        "colab": {
          "base_uri": "https://localhost:8080/"
        },
        "id": "4U01IQvAM7Px",
        "outputId": "6c569311-eb4f-4401-c18b-cc1bcf10dd5d"
      },
      "execution_count": 40,
      "outputs": [
        {
          "output_type": "execute_result",
          "data": {
            "text/plain": [
              "torch.Size([2, 5, 3])"
            ]
          },
          "metadata": {},
          "execution_count": 40
        }
      ]
    },
    {
      "cell_type": "code",
      "source": [
        "x=torch.rand(1,2,3)\n",
        "x"
      ],
      "metadata": {
        "colab": {
          "base_uri": "https://localhost:8080/"
        },
        "id": "4azQblibM9Rb",
        "outputId": "4969ebe8-4fb9-4a5d-be15-24743ca8ed99"
      },
      "execution_count": 41,
      "outputs": [
        {
          "output_type": "execute_result",
          "data": {
            "text/plain": [
              "tensor([[[0.3402, 0.5495, 0.4834],\n",
              "         [0.1677, 0.1702, 0.2641]]])"
            ]
          },
          "metadata": {},
          "execution_count": 41
        }
      ]
    },
    {
      "cell_type": "code",
      "source": [
        "x.shape"
      ],
      "metadata": {
        "colab": {
          "base_uri": "https://localhost:8080/"
        },
        "id": "g9c5lToabktj",
        "outputId": "34a21716-0486-4f93-ca86-dfdd9732eb7f"
      },
      "execution_count": 42,
      "outputs": [
        {
          "output_type": "execute_result",
          "data": {
            "text/plain": [
              "torch.Size([1, 2, 3])"
            ]
          },
          "metadata": {},
          "execution_count": 42
        }
      ]
    },
    {
      "cell_type": "code",
      "source": [
        "x=x.squeeze()\n",
        "x.shape"
      ],
      "metadata": {
        "colab": {
          "base_uri": "https://localhost:8080/"
        },
        "id": "NpGrFQFObnHR",
        "outputId": "94bd5e6e-bf25-47a0-e62f-adf9799d7163"
      },
      "execution_count": 43,
      "outputs": [
        {
          "output_type": "execute_result",
          "data": {
            "text/plain": [
              "torch.Size([2, 3])"
            ]
          },
          "metadata": {},
          "execution_count": 43
        }
      ]
    },
    {
      "cell_type": "code",
      "source": [
        "x"
      ],
      "metadata": {
        "colab": {
          "base_uri": "https://localhost:8080/"
        },
        "id": "DWWIQ-todXUc",
        "outputId": "fcf83c64-d56a-4051-d02f-1123a15479aa"
      },
      "execution_count": 44,
      "outputs": [
        {
          "output_type": "execute_result",
          "data": {
            "text/plain": [
              "tensor([[0.3402, 0.5495, 0.4834],\n",
              "        [0.1677, 0.1702, 0.2641]])"
            ]
          },
          "metadata": {},
          "execution_count": 44
        }
      ]
    },
    {
      "cell_type": "code",
      "source": [
        "x=x.unsqueeze(dim=1)\n",
        "x.shape"
      ],
      "metadata": {
        "colab": {
          "base_uri": "https://localhost:8080/"
        },
        "id": "nvcoI5SPcaeo",
        "outputId": "453cf96c-9f5b-4ae0-948e-e37f1c83862a"
      },
      "execution_count": 45,
      "outputs": [
        {
          "output_type": "execute_result",
          "data": {
            "text/plain": [
              "torch.Size([2, 1, 3])"
            ]
          },
          "metadata": {},
          "execution_count": 45
        }
      ]
    },
    {
      "cell_type": "code",
      "source": [
        "x=x.squeeze(dim=0)\n",
        "x"
      ],
      "metadata": {
        "colab": {
          "base_uri": "https://localhost:8080/"
        },
        "id": "uSrX7OKAcdle",
        "outputId": "abc2b7fe-756d-4b8f-a4b6-19796a8acab2"
      },
      "execution_count": 46,
      "outputs": [
        {
          "output_type": "execute_result",
          "data": {
            "text/plain": [
              "tensor([[[0.3402, 0.5495, 0.4834]],\n",
              "\n",
              "        [[0.1677, 0.1702, 0.2641]]])"
            ]
          },
          "metadata": {},
          "execution_count": 46
        }
      ]
    },
    {
      "cell_type": "code",
      "source": [
        "x.shape"
      ],
      "metadata": {
        "colab": {
          "base_uri": "https://localhost:8080/"
        },
        "id": "gVtaLQYYdHgJ",
        "outputId": "145050ed-fedb-4c15-a2c5-eb1b5e645cec"
      },
      "execution_count": 47,
      "outputs": [
        {
          "output_type": "execute_result",
          "data": {
            "text/plain": [
              "torch.Size([2, 1, 3])"
            ]
          },
          "metadata": {},
          "execution_count": 47
        }
      ]
    },
    {
      "cell_type": "code",
      "source": [
        "x=torch.rand(size=(224,224,3))\n",
        "print(f\"shape of x is {x.shape}\")\n",
        "x=x.permute(2,1,0)\n",
        "print(f\"shape of x is {x.shape}\")"
      ],
      "metadata": {
        "colab": {
          "base_uri": "https://localhost:8080/"
        },
        "id": "UYxlj2vTwKbd",
        "outputId": "38924a4e-ae59-47cc-d07b-d1d7fc844e56"
      },
      "execution_count": 48,
      "outputs": [
        {
          "output_type": "stream",
          "name": "stdout",
          "text": [
            "shape of x is torch.Size([224, 224, 3])\n",
            "shape of x is torch.Size([3, 224, 224])\n"
          ]
        }
      ]
    },
    {
      "cell_type": "code",
      "source": [
        "y=torch.rand(1,3,3)\n",
        "y"
      ],
      "metadata": {
        "colab": {
          "base_uri": "https://localhost:8080/"
        },
        "id": "fHtfDbjHx7nf",
        "outputId": "ca3e809c-c5a3-46ed-d588-29c648d75d70"
      },
      "execution_count": 49,
      "outputs": [
        {
          "output_type": "execute_result",
          "data": {
            "text/plain": [
              "tensor([[[0.5582, 0.4782, 0.9247],\n",
              "         [0.2132, 0.7572, 0.8144],\n",
              "         [0.2671, 0.1817, 0.9649]]])"
            ]
          },
          "metadata": {},
          "execution_count": 49
        }
      ]
    },
    {
      "cell_type": "code",
      "source": [
        "y[:1,1]"
      ],
      "metadata": {
        "colab": {
          "base_uri": "https://localhost:8080/"
        },
        "id": "ZuaWTHXz7qTo",
        "outputId": "7154c82e-9156-4f95-e84a-3e086a646f53"
      },
      "execution_count": 50,
      "outputs": [
        {
          "output_type": "execute_result",
          "data": {
            "text/plain": [
              "tensor([[0.2132, 0.7572, 0.8144]])"
            ]
          },
          "metadata": {},
          "execution_count": 50
        }
      ]
    },
    {
      "cell_type": "code",
      "source": [
        "random=42\n",
        "torch.manual_seed(random)\n",
        "\n",
        "x=torch.rand(3,4)\n",
        "print(f\"x is {x}\")\n",
        "\n",
        "torch.manual_seed(random)\n",
        "y=torch.rand(3,4)\n",
        "print(f'\\ny is {y}')"
      ],
      "metadata": {
        "id": "0qo42dTv8G4j",
        "colab": {
          "base_uri": "https://localhost:8080/"
        },
        "outputId": "59b73d12-5142-47a3-bbce-ea6321a23a11"
      },
      "execution_count": 51,
      "outputs": [
        {
          "output_type": "stream",
          "name": "stdout",
          "text": [
            "x is tensor([[0.8823, 0.9150, 0.3829, 0.9593],\n",
            "        [0.3904, 0.6009, 0.2566, 0.7936],\n",
            "        [0.9408, 0.1332, 0.9346, 0.5936]])\n",
            "\n",
            "y is tensor([[0.8823, 0.9150, 0.3829, 0.9593],\n",
            "        [0.3904, 0.6009, 0.2566, 0.7936],\n",
            "        [0.9408, 0.1332, 0.9346, 0.5936]])\n"
          ]
        }
      ]
    },
    {
      "cell_type": "markdown",
      "source": [
        "## Building a model"
      ],
      "metadata": {
        "id": "VXyTcl6HIxFo"
      }
    },
    {
      "cell_type": "code",
      "source": [
        "import torch\n",
        "from torch import nn\n",
        "import matplotlib.pyplot as plt\n",
        "torch.__version__"
      ],
      "metadata": {
        "colab": {
          "base_uri": "https://localhost:8080/",
          "height": 35
        },
        "id": "KldV4Rk8_9t-",
        "outputId": "ec4a0c70-2196-474f-9301-2cd1413dcf09"
      },
      "execution_count": 52,
      "outputs": [
        {
          "output_type": "execute_result",
          "data": {
            "text/plain": [
              "'2.0.1+cu118'"
            ],
            "application/vnd.google.colaboratory.intrinsic+json": {
              "type": "string"
            }
          },
          "metadata": {},
          "execution_count": 52
        }
      ]
    },
    {
      "cell_type": "code",
      "source": [
        "#create paramaters\n",
        "weight=0.7\n",
        "bias=0.3\n",
        "\n",
        "#create\n",
        "start=0\n",
        "end=1\n",
        "step=0.02\n",
        "\n",
        "X=torch.arange(start=start, end=end, step=step).unsqueeze(dim=1)\n",
        "Y=weight*X+bias\n",
        "\n",
        "#check X, Y\n",
        "print(f\"X =\\n{X[:10]}\")\n",
        "print(f\"\\nY =\\n{Y[:10]}\")"
      ],
      "metadata": {
        "colab": {
          "base_uri": "https://localhost:8080/"
        },
        "id": "BKD6CRc3I7s0",
        "outputId": "81d1e8c2-1450-44a5-a35d-b9f857373a32"
      },
      "execution_count": 53,
      "outputs": [
        {
          "output_type": "stream",
          "name": "stdout",
          "text": [
            "X =\n",
            "tensor([[0.0000],\n",
            "        [0.0200],\n",
            "        [0.0400],\n",
            "        [0.0600],\n",
            "        [0.0800],\n",
            "        [0.1000],\n",
            "        [0.1200],\n",
            "        [0.1400],\n",
            "        [0.1600],\n",
            "        [0.1800]])\n",
            "\n",
            "Y =\n",
            "tensor([[0.3000],\n",
            "        [0.3140],\n",
            "        [0.3280],\n",
            "        [0.3420],\n",
            "        [0.3560],\n",
            "        [0.3700],\n",
            "        [0.3840],\n",
            "        [0.3980],\n",
            "        [0.4120],\n",
            "        [0.4260]])\n"
          ]
        }
      ]
    },
    {
      "cell_type": "code",
      "source": [
        "X.shape"
      ],
      "metadata": {
        "colab": {
          "base_uri": "https://localhost:8080/"
        },
        "id": "bxO26_x4KA6O",
        "outputId": "35bf8319-2cdd-400d-f791-22deb7200caa"
      },
      "execution_count": 54,
      "outputs": [
        {
          "output_type": "execute_result",
          "data": {
            "text/plain": [
              "torch.Size([50, 1])"
            ]
          },
          "metadata": {},
          "execution_count": 54
        }
      ]
    },
    {
      "cell_type": "code",
      "source": [
        "# Create trainn & test split\n",
        "\n",
        "train_split=int(0.8*len(X))\n",
        "X_train, y_train=X[:train_split],Y[:train_split]\n",
        "X_test,y_test=Y[train_split:],Y[train_split:]\n",
        "len(X_train),len(X_test),len(y_train),len(y_test)"
      ],
      "metadata": {
        "colab": {
          "base_uri": "https://localhost:8080/"
        },
        "id": "LvoS_9WjKkEP",
        "outputId": "a5de8c37-1eef-48e9-9843-43aec54ea4ff"
      },
      "execution_count": 55,
      "outputs": [
        {
          "output_type": "execute_result",
          "data": {
            "text/plain": [
              "(40, 10, 40, 10)"
            ]
          },
          "metadata": {},
          "execution_count": 55
        }
      ]
    },
    {
      "cell_type": "code",
      "source": [
        "def plot_predictions(train_data=X_train,\n",
        "                     train_labels=y_train,\n",
        "                     test_data=X_test,\n",
        "                     test_label=y_test,\n",
        "                     predictions=None):\n",
        "  \"\"\"\n",
        "  Plots training data, test data and compares predictions.\n",
        "  \"\"\"\n",
        "  plt.figure(figsize=(5,4))\n",
        "\n",
        "  # plot training data in blue\n",
        "  plt.scatter(train_data, train_labels, c=\"b\", s=4, label=\"Training Data\")\n",
        "\n",
        "  # plot test data in green\n",
        "  plt.scatter(test_data, test_label, c=\"g\", s=4, label=\"Testing Data\")\n",
        "\n",
        "  # Are there predictions?\n",
        "  if predictions is not None:\n",
        "    #Plot the predictions if they exist\n",
        "    plt.scatter(test_data, predictions, c='r', s=4, label=\"Predictions\")\n",
        "\n",
        "  # Show the legend\n",
        "  plt.legend(prop={'size':14});\n",
        "\n"
      ],
      "metadata": {
        "id": "4Hq0scdXK9qu"
      },
      "execution_count": 56,
      "outputs": []
    },
    {
      "cell_type": "code",
      "source": [
        "plot_predictions();"
      ],
      "metadata": {
        "colab": {
          "base_uri": "https://localhost:8080/",
          "height": 368
        },
        "id": "fpZZyvZnsY-x",
        "outputId": "16d880a3-7b5c-4dad-b916-2f3fbc432670"
      },
      "execution_count": 57,
      "outputs": [
        {
          "output_type": "display_data",
          "data": {
            "text/plain": [
              "<Figure size 500x400 with 1 Axes>"
            ],
            "image/png": "[encoded data removed]"
          },
          "metadata": {}
        }
      ]
    },
    {
      "cell_type": "code",
      "source": [
        "# Build model\n",
        "# OOP\n",
        "class LinearRegressionModel(nn.Module):\n",
        "  def __init__(self):\n",
        "    super().__init__()\n",
        "    self.weights=nn.Parameter(torch.randn(1,\n",
        "                                          requires_grad=True,\n",
        "                                          dtype=torch.float32))\n",
        "    self.bias=nn.Parameter(torch.randn(1,\n",
        "                                          requires_grad=True,\n",
        "                                          dtype=torch.float32))\n",
        "\n",
        "    # Forward methood to define the competition in model\n",
        "  def forward(self,x:torch.Tensor)-> torch.Tensor:\n",
        "      return self.weights*x + self.bias"
      ],
      "metadata": {
        "id": "v2fm1j-yswD6"
      },
      "execution_count": 58,
      "outputs": []
    },
    {
      "cell_type": "code",
      "source": [
        "# Creeate a random seed\n",
        "torch.manual_seed(42)\n",
        "\n",
        "# Create an instance of the model\n",
        "model_0=LinearRegressionModel()\n",
        "\n",
        "# Check the paramaters\n",
        "list(model_0.parameters())"
      ],
      "metadata": {
        "colab": {
          "base_uri": "https://localhost:8080/"
        },
        "id": "ig_wNYvjPqe4",
        "outputId": "6dd26b3c-fa20-45b8-93d0-bd832ef71c9c"
      },
      "execution_count": 59,
      "outputs": [
        {
          "output_type": "execute_result",
          "data": {
            "text/plain": [
              "[Parameter containing:\n",
              " tensor([0.3367], requires_grad=True),\n",
              " Parameter containing:\n",
              " tensor([0.1288], requires_grad=True)]"
            ]
          },
          "metadata": {},
          "execution_count": 59
        }
      ]
    },
    {
      "cell_type": "code",
      "source": [
        "model_0.state_dict()"
      ],
      "metadata": {
        "id": "d7lJsu1MP84O",
        "colab": {
          "base_uri": "https://localhost:8080/"
        },
        "outputId": "b9b37e79-fa80-4479-924c-84f453131d97"
      },
      "execution_count": 60,
      "outputs": [
        {
          "output_type": "execute_result",
          "data": {
            "text/plain": [
              "OrderedDict([('weights', tensor([0.3367])), ('bias', tensor([0.1288]))])"
            ]
          },
          "metadata": {},
          "execution_count": 60
        }
      ]
    },
    {
      "cell_type": "code",
      "source": [
        "# make predictions\n",
        "with torch.inference_mode():\n",
        "  y_preds=model_0(X_test)\n",
        "\n",
        "y_preds"
      ],
      "metadata": {
        "colab": {
          "base_uri": "https://localhost:8080/"
        },
        "id": "kkJ6SRABhUCc",
        "outputId": "88061a5d-8992-4cae-c789-1ef88df24a40"
      },
      "execution_count": 61,
      "outputs": [
        {
          "output_type": "execute_result",
          "data": {
            "text/plain": [
              "tensor([[0.4184],\n",
              "        [0.4231],\n",
              "        [0.4278],\n",
              "        [0.4325],\n",
              "        [0.4372],\n",
              "        [0.4419],\n",
              "        [0.4466],\n",
              "        [0.4514],\n",
              "        [0.4561],\n",
              "        [0.4608]])"
            ]
          },
          "metadata": {},
          "execution_count": 61
        }
      ]
    },
    {
      "cell_type": "code",
      "source": [
        "y_test"
      ],
      "metadata": {
        "colab": {
          "base_uri": "https://localhost:8080/"
        },
        "id": "xH9_9kwPh_Hy",
        "outputId": "202961d9-11ca-4a5d-cd3f-edc05ab5a835"
      },
      "execution_count": 62,
      "outputs": [
        {
          "output_type": "execute_result",
          "data": {
            "text/plain": [
              "tensor([[0.8600],\n",
              "        [0.8740],\n",
              "        [0.8880],\n",
              "        [0.9020],\n",
              "        [0.9160],\n",
              "        [0.9300],\n",
              "        [0.9440],\n",
              "        [0.9580],\n",
              "        [0.9720],\n",
              "        [0.9860]])"
            ]
          },
          "metadata": {},
          "execution_count": 62
        }
      ]
    },
    {
      "cell_type": "code",
      "source": [
        "plot_predictions(predictions=y_preds)"
      ],
      "metadata": {
        "colab": {
          "base_uri": "https://localhost:8080/",
          "height": 368
        },
        "id": "6pevTRszif6O",
        "outputId": "dfaf9a4f-51a7-4a46-cd5d-cf3502c68199"
      },
      "execution_count": 63,
      "outputs": [
        {
          "output_type": "display_data",
          "data": {
            "text/plain": [
              "<Figure size 500x400 with 1 Axes>"
            ],
            "image/png": "[encoded data removed]"
          },
          "metadata": {}
        }
      ]
    },
    {
      "cell_type": "code",
      "source": [
        "# Setup a loss function\n",
        "loss_fn=nn.L1Loss()\n",
        "\n",
        "# Setup an optimizer (stochastic gradient descent)\n",
        "optimizer=torch.optim.SGD(params=model_0.parameters(),\n",
        "                          lr=0.01)"
      ],
      "metadata": {
        "id": "J8CTLkrDirI1"
      },
      "execution_count": 64,
      "outputs": []
    },
    {
      "cell_type": "code",
      "source": [
        "# An epoch is on loop through data...\n",
        "epochs=100\n",
        "epoch_value=0\n",
        "Loss=[]\n",
        "Test_loss=[]\n",
        "\n",
        "# Loop through data\n",
        "for epoch in range(epochs):\n",
        "  print(epoch_value)\n",
        "  # Save for visualizetion\n",
        "  epoch_value+=1\n",
        "\n",
        "  # Set the model to trainning mode\n",
        "  model_0.train() # train mode in pytorch set\n",
        "\n",
        "  # Forward pass\n",
        "  y_pred=model_0(X_train)\n",
        "\n",
        "  # 2. Calculate the loss\n",
        "  loss=loss_fn(y_train,y_pred)\n",
        "  print(f\"Loss :{loss}\")\n",
        "\n",
        "  #3. Optimizer zero grad\n",
        "  optimizer.zero_grad()\n",
        "\n",
        "  #4. Perform backpropogation on loss with repsect to parameters of model\n",
        "  loss.backward()\n",
        "  Loss.append(loss.detach().numpy()) # Save the loss\n",
        "\n",
        "  # 5. Step  the optimizer (perform gradient descent)\n",
        "  optimizer.step()\n",
        "\n",
        "  # 6. ## Testing the model (turnoff gradient tracking for testing still continues forward pass)\n",
        "  model_0.eval()\n",
        "  with torch.inference_mode(): # turns off gradient tracking in backend\n",
        "  # with torch.no_grad(): # you may also use it\n",
        "  # 1. Do the forward pass\n",
        "    test_pred=model_0(X_test)\n",
        "\n",
        "  #2. Calculate the loss\n",
        "    test_loss=loss_fn(test_pred,y_test)\n",
        "    Test_loss.append(test_loss.detach().numpy()) # Save the test loss\n",
        "\n",
        "  # Print out everything\n",
        "  if epoch % 10 == 0:\n",
        "    print(f\"Epoch: {epoch} | Loss: {loss} | Test Loss: {test_loss}\")\n",
        "\n",
        "  # Print out model state_dict()\n",
        "\n",
        "    print(model_0.state_dict())\n",
        "\n",
        "\n",
        "# Visualize loss history\n",
        "epoch_count=np.arange(1,epoch_value+1,1)\n",
        "plt.plot(epoch_count, Loss, 'r--')\n",
        "plt.plot(epoch_count, Test_loss, 'b-')\n",
        "plt.legend(['Training Loss', 'Test Loss'])\n",
        "plt.xlabel('Epoch')\n",
        "plt.ylabel('Loss')\n",
        "plt.show();"
      ],
      "metadata": {
        "colab": {
          "base_uri": "https://localhost:8080/",
          "height": 1000
        },
        "id": "XTdzuCMqonYw",
        "outputId": "28110319-7e09-4807-c0b9-defdc176cfd3"
      },
      "execution_count": 65,
      "outputs": [
        {
          "output_type": "stream",
          "name": "stdout",
          "text": [
            "0\n",
            "Loss :0.31288138031959534\n",
            "Epoch: 0 | Loss: 0.31288138031959534 | Test Loss: 0.4698256850242615\n",
            "OrderedDict([('weights', tensor([0.3406])), ('bias', tensor([0.1388]))])\n",
            "1\n",
            "Loss :0.3013603389263153\n",
            "2\n",
            "Loss :0.28983935713768005\n",
            "3\n",
            "Loss :0.2783183455467224\n",
            "4\n",
            "Loss :0.26679736375808716\n",
            "5\n",
            "Loss :0.2552763521671295\n",
            "6\n",
            "Loss :0.24375534057617188\n",
            "7\n",
            "Loss :0.23223432898521423\n",
            "8\n",
            "Loss :0.22071333229541779\n",
            "9\n",
            "Loss :0.20919232070446014\n",
            "10\n",
            "Loss :0.1976713240146637\n",
            "Epoch: 10 | Loss: 0.1976713240146637 | Test Loss: 0.33382871747016907\n",
            "OrderedDict([('weights', tensor([0.3796])), ('bias', tensor([0.2388]))])\n",
            "11\n",
            "Loss :0.18615034222602844\n",
            "12\n",
            "Loss :0.1746293306350708\n",
            "13\n",
            "Loss :0.16310831904411316\n",
            "14\n",
            "Loss :0.1515873372554779\n",
            "15\n",
            "Loss :0.14006635546684265\n",
            "16\n",
            "Loss :0.1285453587770462\n",
            "17\n",
            "Loss :0.11702437698841095\n",
            "18\n",
            "Loss :0.1060912236571312\n",
            "19\n",
            "Loss :0.09681284427642822\n",
            "20\n",
            "Loss :0.08908725529909134\n",
            "Epoch: 20 | Loss: 0.08908725529909134 | Test Loss: 0.20348870754241943\n",
            "OrderedDict([('weights', tensor([0.4184])), ('bias', tensor([0.3333]))])\n",
            "21\n",
            "Loss :0.08227583020925522\n",
            "22\n",
            "Loss :0.07638873159885406\n",
            "23\n",
            "Loss :0.07160007208585739\n",
            "24\n",
            "Loss :0.06747635453939438\n",
            "25\n",
            "Loss :0.06395438313484192\n",
            "26\n",
            "Loss :0.06097004935145378\n",
            "27\n",
            "Loss :0.05845819041132927\n",
            "28\n",
            "Loss :0.05635259300470352\n",
            "29\n",
            "Loss :0.0545857772231102\n",
            "30\n",
            "Loss :0.053148526698350906\n",
            "Epoch: 30 | Loss: 0.053148526698350906 | Test Loss: 0.12975125014781952\n",
            "OrderedDict([('weights', tensor([0.4512])), ('bias', tensor([0.3768]))])\n",
            "31\n",
            "Loss :0.05181945487856865\n",
            "32\n",
            "Loss :0.05069301277399063\n",
            "33\n",
            "Loss :0.0498228520154953\n",
            "34\n",
            "Loss :0.04895269125699997\n",
            "35\n",
            "Loss :0.04819351062178612\n",
            "36\n",
            "Loss :0.047531817108392715\n",
            "37\n",
            "Loss :0.04692792519927025\n",
            "38\n",
            "Loss :0.04642331600189209\n",
            "39\n",
            "Loss :0.04591871052980423\n",
            "40\n",
            "Loss :0.04543796554207802\n",
            "Epoch: 40 | Loss: 0.04543796554207802 | Test Loss: 0.09794081002473831\n",
            "OrderedDict([('weights', tensor([0.4748])), ('bias', tensor([0.3868]))])\n",
            "41\n",
            "Loss :0.04503796249628067\n",
            "42\n",
            "Loss :0.04463795945048332\n",
            "43\n",
            "Loss :0.04423796385526657\n",
            "44\n",
            "Loss :0.04383796453475952\n",
            "45\n",
            "Loss :0.04343796148896217\n",
            "46\n",
            "Loss :0.043074630200862885\n",
            "47\n",
            "Loss :0.04272563382983208\n",
            "48\n",
            "Loss :0.04237663000822067\n",
            "49\n",
            "Loss :0.04202762991189957\n",
            "50\n",
            "Loss :0.04167863354086876\n",
            "Epoch: 50 | Loss: 0.04167863354086876 | Test Loss: 0.08290375024080276\n",
            "OrderedDict([('weights', tensor([0.4938])), ('bias', tensor([0.3843]))])\n",
            "51\n",
            "Loss :0.04132963344454765\n",
            "52\n",
            "Loss :0.04098063334822655\n",
            "53\n",
            "Loss :0.04063162952661514\n",
            "54\n",
            "Loss :0.040282636880874634\n",
            "55\n",
            "Loss :0.039933640509843826\n",
            "56\n",
            "Loss :0.03958464413881302\n",
            "57\n",
            "Loss :0.03923564404249191\n",
            "58\n",
            "Loss :0.03888664394617081\n",
            "59\n",
            "Loss :0.0385376438498497\n",
            "60\n",
            "Loss :0.03818932920694351\n",
            "Epoch: 60 | Loss: 0.03818932920694351 | Test Loss: 0.07198350876569748\n",
            "OrderedDict([('weights', tensor([0.5116])), ('bias', tensor([0.3788]))])\n",
            "61\n",
            "Loss :0.03785243630409241\n",
            "62\n",
            "Loss :0.0375034399330616\n",
            "63\n",
            "Loss :0.037164121866226196\n",
            "64\n",
            "Loss :0.03681822493672371\n",
            "65\n",
            "Loss :0.03647511452436447\n",
            "66\n",
            "Loss :0.03613303601741791\n",
            "67\n",
            "Loss :0.03578609973192215\n",
            "68\n",
            "Loss :0.03544783592224121\n",
            "69\n",
            "Loss :0.035098835825920105\n",
            "70\n",
            "Loss :0.03476089984178543\n",
            "Epoch: 70 | Loss: 0.03476089984178543 | Test Loss: 0.06314468383789062\n",
            "OrderedDict([('weights', tensor([0.5288])), ('bias', tensor([0.3718]))])\n",
            "71\n",
            "Loss :0.03441363573074341\n",
            "72\n",
            "Loss :0.03407188132405281\n",
            "73\n",
            "Loss :0.03372843936085701\n",
            "74\n",
            "Loss :0.03338287025690079\n",
            "75\n",
            "Loss :0.033043231815099716\n",
            "76\n",
            "Loss :0.03269423171877861\n",
            "77\n",
            "Loss :0.032357655465602875\n",
            "78\n",
            "Loss :0.03200903534889221\n",
            "79\n",
            "Loss :0.03166864812374115\n",
            "80\n",
            "Loss :0.03132382780313492\n",
            "Epoch: 80 | Loss: 0.03132382780313492 | Test Loss: 0.05430586263537407\n",
            "OrderedDict([('weights', tensor([0.5459])), ('bias', tensor([0.3648]))])\n",
            "81\n",
            "Loss :0.030979642644524574\n",
            "82\n",
            "Loss :0.030638623982667923\n",
            "83\n",
            "Loss :0.0302906334400177\n",
            "84\n",
            "Loss :0.029953425750136375\n",
            "85\n",
            "Loss :0.02960442565381527\n",
            "86\n",
            "Loss :0.029265418648719788\n",
            "87\n",
            "Loss :0.028919223695993423\n",
            "88\n",
            "Loss :0.028576409444212914\n",
            "89\n",
            "Loss :0.028234025463461876\n",
            "90\n",
            "Loss :0.02788739837706089\n",
            "Epoch: 90 | Loss: 0.02788739837706089 | Test Loss: 0.046160854399204254\n",
            "OrderedDict([('weights', tensor([0.5629])), ('bias', tensor([0.3573]))])\n",
            "91\n",
            "Loss :0.02754882536828518\n",
            "92\n",
            "Loss :0.027199819684028625\n",
            "93\n",
            "Loss :0.026862185448408127\n",
            "94\n",
            "Loss :0.02651461586356163\n",
            "95\n",
            "Loss :0.026173178106546402\n",
            "96\n",
            "Loss :0.025829419493675232\n",
            "97\n",
            "Loss :0.02548416517674923\n",
            "98\n",
            "Loss :0.025144213810563087\n",
            "99\n",
            "Loss :0.02479521557688713\n"
          ]
        },
        {
          "output_type": "display_data",
          "data": {
            "text/plain": [
              "<Figure size 640x480 with 1 Axes>"
            ],
            "image/png": "[encoded data removed]"
          },
          "metadata": {}
        }
      ]
    },
    {
      "cell_type": "code",
      "source": [
        "with torch.inference_mode(): # turns off gradient tracking in backend\n",
        "# with torch.no_grad(): # you may also use it\n",
        "# 1. Do the forward pass\n",
        "  y_preds_new=model_0(X_test)"
      ],
      "metadata": {
        "id": "4UajaYwAZZ0n"
      },
      "execution_count": 66,
      "outputs": []
    },
    {
      "cell_type": "code",
      "source": [
        "plot_predictions(predictions=y_preds_new)"
      ],
      "metadata": {
        "colab": {
          "base_uri": "https://localhost:8080/",
          "height": 368
        },
        "id": "JiTVh2XbyrMv",
        "outputId": "b8ba17e5-5112-45b4-ffd0-94060de1805a"
      },
      "execution_count": 67,
      "outputs": [
        {
          "output_type": "display_data",
          "data": {
            "text/plain": [
              "<Figure size 500x400 with 1 Axes>"
            ],
            "image/png": "[encoded data removed]"
          },
          "metadata": {}
        }
      ]
    },
    {
      "cell_type": "code",
      "source": [
        "model_0.state_dict()"
      ],
      "metadata": {
        "colab": {
          "base_uri": "https://localhost:8080/"
        },
        "id": "DbKp3WpGyMsF",
        "outputId": "fddb17aa-483b-4eb4-f836-04e41b4fffb6"
      },
      "execution_count": 68,
      "outputs": [
        {
          "output_type": "execute_result",
          "data": {
            "text/plain": [
              "OrderedDict([('weights', tensor([0.5784])), ('bias', tensor([0.3513]))])"
            ]
          },
          "metadata": {},
          "execution_count": 68
        }
      ]
    },
    {
      "cell_type": "code",
      "source": [
        "## Saving the model\n",
        "from pathlib import Path\n",
        "\n",
        "# Create models directory\n",
        "MODEL_PATH= Path(\"models\")\n",
        "MODEL_PATH.mkdir(parents=True, exist_ok=True)\n",
        "\n",
        "# Create model save path\n",
        "MODEL_NAME=\"01-PyTorch_workflow_model_0.pth\"\n",
        "MODEL_SAVE_PATH=MODEL_PATH/MODEL_NAME\n",
        "\n",
        "# Save model save_dict\n",
        "print(f\"Savinng model to: {MODEL_SAVE_PATH}\")\n",
        "torch.save(obj=model_0.state_dict(),\n",
        "           f=MODEL_SAVE_PATH)"
      ],
      "metadata": {
        "colab": {
          "base_uri": "https://localhost:8080/"
        },
        "id": "dJRaOL8Iyui7",
        "outputId": "ca8d8502-094d-4ff2-9e93-4ad4ae3f85b5"
      },
      "execution_count": 69,
      "outputs": [
        {
          "output_type": "stream",
          "name": "stdout",
          "text": [
            "Savinng model to: models/01-PyTorch_workflow_model_0.pth\n"
          ]
        }
      ]
    },
    {
      "cell_type": "code",
      "source": [
        "# Checking the directory\n",
        "!ls -l models"
      ],
      "metadata": {
        "colab": {
          "base_uri": "https://localhost:8080/"
        },
        "id": "Qmj91NBANbQM",
        "outputId": "eef3cf4e-fdf3-4e75-8051-11dc1e6010e9"
      },
      "execution_count": 70,
      "outputs": [
        {
          "output_type": "stream",
          "name": "stdout",
          "text": [
            "total 4\n",
            "-rw-r--r-- 1 root root 1207 Sep  2 00:00 01-PyTorch_workflow_model_0.pth\n"
          ]
        }
      ]
    },
    {
      "cell_type": "code",
      "source": [
        "# Load the model\n",
        "loaded_model_0=LinearRegressionModel()\n",
        "loaded_model_0.load_state_dict(torch.load(f=MODEL_SAVE_PATH))\n",
        "loaded_model_0.state_dict()"
      ],
      "metadata": {
        "id": "XxZIDa0vOItl",
        "colab": {
          "base_uri": "https://localhost:8080/"
        },
        "outputId": "5e398ea5-997d-43bf-a22a-2db58c0b7d21"
      },
      "execution_count": 71,
      "outputs": [
        {
          "output_type": "execute_result",
          "data": {
            "text/plain": [
              "OrderedDict([('weights', tensor([0.5784])), ('bias', tensor([0.3513]))])"
            ]
          },
          "metadata": {},
          "execution_count": 71
        }
      ]
    },
    {
      "cell_type": "code",
      "source": [
        "# Make some predictions with or model\n",
        "loaded_model_0.eval()\n",
        "with torch.inference_mode():\n",
        "  loaded_model_preds= loaded_model_0(X_test)\n",
        "\n",
        "loaded_model_preds"
      ],
      "metadata": {
        "colab": {
          "base_uri": "https://localhost:8080/"
        },
        "id": "kWdrpEa4fRPd",
        "outputId": "78243ad8-b5fe-4947-cee6-80baa3bfe40b"
      },
      "execution_count": 72,
      "outputs": [
        {
          "output_type": "execute_result",
          "data": {
            "text/plain": [
              "tensor([[0.8488],\n",
              "        [0.8569],\n",
              "        [0.8650],\n",
              "        [0.8731],\n",
              "        [0.8812],\n",
              "        [0.8893],\n",
              "        [0.8974],\n",
              "        [0.9055],\n",
              "        [0.9136],\n",
              "        [0.9217]])"
            ]
          },
          "metadata": {},
          "execution_count": 72
        }
      ]
    },
    {
      "cell_type": "code",
      "source": [
        "y_preds_new==loaded_model_preds"
      ],
      "metadata": {
        "colab": {
          "base_uri": "https://localhost:8080/"
        },
        "id": "xwkIL8CNgHct",
        "outputId": "0366f492-2550-445f-b77c-6c3245523beb"
      },
      "execution_count": 73,
      "outputs": [
        {
          "output_type": "execute_result",
          "data": {
            "text/plain": [
              "tensor([[True],\n",
              "        [True],\n",
              "        [True],\n",
              "        [True],\n",
              "        [True],\n",
              "        [True],\n",
              "        [True],\n",
              "        [True],\n",
              "        [True],\n",
              "        [True]])"
            ]
          },
          "metadata": {},
          "execution_count": 73
        }
      ]
    },
    {
      "cell_type": "markdown",
      "source": [
        "## Develope Ridge Regression Model"
      ],
      "metadata": {
        "id": "7--9NsGEitF9"
      }
    },
    {
      "cell_type": "code",
      "source": [
        "import torch\n",
        "import torch.nn as nn\n",
        "import matplotlib.pyplot as plt\n",
        "from torch.nn.modules.module import Module\n",
        "\n",
        "print(f\"Torch version: {torch.__version__}\")"
      ],
      "metadata": {
        "colab": {
          "base_uri": "https://localhost:8080/"
        },
        "id": "d2DGPYDEgSMJ",
        "outputId": "9fb28a5b-8383-451e-edf1-c544e1d279b0"
      },
      "execution_count": 74,
      "outputs": [
        {
          "output_type": "stream",
          "name": "stdout",
          "text": [
            "Torch version: 2.0.1+cu118\n"
          ]
        }
      ]
    },
    {
      "cell_type": "code",
      "source": [
        "device= \"cuda\" if torch.cuda.is_available() else \"cpu\"\n",
        "print(f\"Using device: {device}\")"
      ],
      "metadata": {
        "colab": {
          "base_uri": "https://localhost:8080/"
        },
        "id": "MMo4XqDdwuCz",
        "outputId": "7456afd6-3eda-4e61-b790-13490974c40b"
      },
      "execution_count": 83,
      "outputs": [
        {
          "output_type": "stream",
          "name": "stdout",
          "text": [
            "Using device: cpu\n"
          ]
        }
      ]
    },
    {
      "cell_type": "code",
      "source": [
        "weight= 0.5\n",
        "bias=0.2\n",
        "\n",
        "start=1\n",
        "end=2\n",
        "step=0.01\n",
        "\n",
        "X=torch.arange(start,end,step).unsqueeze(dim=1)\n",
        "y=weight*X+bias\n",
        "\n",
        "# split\n",
        "train_split=int(len(X)*0.8)\n",
        "X_train, y_train=X[:train_split],y[:train_split]\n",
        "X_test, y_test=X[train_split:],y[train_split:]\n",
        "print(f\"shape of X_train, y_train: {X_train.shape}, {y_train.shape}\")\n",
        "print(f\"shape of X_train, y_train: {X_test.shape}, {y_test.shape}\")"
      ],
      "metadata": {
        "colab": {
          "base_uri": "https://localhost:8080/"
        },
        "id": "BHSrPUxsp1J0",
        "outputId": "135e5ec2-59a2-4094-df05-c9c7403d85c1"
      },
      "execution_count": 84,
      "outputs": [
        {
          "output_type": "stream",
          "name": "stdout",
          "text": [
            "shape of X_train, y_train: torch.Size([80, 1]), torch.Size([80, 1])\n",
            "shape of X_train, y_train: torch.Size([20, 1]), torch.Size([20, 1])\n"
          ]
        }
      ]
    },
    {
      "cell_type": "code",
      "source": [
        "plot_predictions();"
      ],
      "metadata": {
        "colab": {
          "base_uri": "https://localhost:8080/",
          "height": 368
        },
        "id": "9cmDTh_NtUws",
        "outputId": "83e3d715-6712-4ed3-d3aa-bedcb0c7d841"
      },
      "execution_count": 85,
      "outputs": [
        {
          "output_type": "display_data",
          "data": {
            "text/plain": [
              "<Figure size 500x400 with 1 Axes>"
            ],
            "image/png": "[encoded data removed]"
          },
          "metadata": {}
        }
      ]
    },
    {
      "cell_type": "code",
      "source": [
        "class RidgeRegression(nn.Module):\n",
        "  def __init__(self):\n",
        "    super().__init__()\n",
        "    self.weights=nn.Parameter(torch.randn(1, requires_grad=True, dtype=torch.float32))\n",
        "    self.bias=nn.Parameter(torch.randn(1, requires_grad=True, dtype=torch.float32))\n",
        "\n",
        "  def forward(self,x:torch.Tensor)-> torch.Tensor:\n",
        "    return self.weights*x+ self.bias"
      ],
      "metadata": {
        "id": "P7jP_ew2piRh"
      },
      "execution_count": 86,
      "outputs": []
    },
    {
      "cell_type": "code",
      "source": [
        "model_ridge=RidgeRegression()"
      ],
      "metadata": {
        "id": "iyQCEJcJuXJx"
      },
      "execution_count": 87,
      "outputs": []
    },
    {
      "cell_type": "code",
      "source": [
        "# set the manual seed\n",
        "\n",
        "torch.manual_seed(42)\n",
        "model_ridge=RidgeRegression()\n",
        "model_ridge, model_ridge.state_dict()"
      ],
      "metadata": {
        "colab": {
          "base_uri": "https://localhost:8080/"
        },
        "id": "fEJMFjdIwFR6",
        "outputId": "0d8be229-797e-44a3-f46a-1d94409a6c69"
      },
      "execution_count": 88,
      "outputs": [
        {
          "output_type": "execute_result",
          "data": {
            "text/plain": [
              "(RidgeRegression(),\n",
              " OrderedDict([('weights', tensor([0.3367])), ('bias', tensor([0.1288]))]))"
            ]
          },
          "metadata": {},
          "execution_count": 88
        }
      ]
    },
    {
      "cell_type": "code",
      "source": [
        "next(model_ridge.parameters()).device"
      ],
      "metadata": {
        "colab": {
          "base_uri": "https://localhost:8080/"
        },
        "id": "2x-26VWPLloy",
        "outputId": "760324a1-a288-4676-c0da-f6ef9052745a"
      },
      "execution_count": 89,
      "outputs": [
        {
          "output_type": "execute_result",
          "data": {
            "text/plain": [
              "device(type='cpu')"
            ]
          },
          "metadata": {},
          "execution_count": 89
        }
      ]
    },
    {
      "cell_type": "code",
      "source": [
        "# set model to use the device\n",
        "model_ridge.to(device)\n",
        "next(model_ridge.parameters()).device"
      ],
      "metadata": {
        "colab": {
          "base_uri": "https://localhost:8080/"
        },
        "id": "mlt2bDztLxDg",
        "outputId": "0879b44c-fa82-48ff-e475-39a522770316"
      },
      "execution_count": 91,
      "outputs": [
        {
          "output_type": "execute_result",
          "data": {
            "text/plain": [
              "device(type='cpu')"
            ]
          },
          "metadata": {},
          "execution_count": 91
        }
      ]
    },
    {
      "cell_type": "markdown",
      "source": [
        "## Training Loop\n",
        "for training we need:-\n",
        "\n",
        "\n",
        "1.   Loss function\n",
        "2.   Optimizer\n",
        "3. Training Loop\n",
        "4. Testing Loop\n",
        "\n"
      ],
      "metadata": {
        "id": "FRItUoilMXC3"
      }
    },
    {
      "cell_type": "code",
      "source": [
        "# Setup the Custom Loss function\n",
        "\n",
        "class Ridge_loss(RidgeRegression):\n",
        "  def __init__(self):\n",
        "    super(). __init__()\n",
        "\n",
        "  def Ridge_loss(self, input,target,Lambda:torch.Tensor)-> torch.tensor:\n",
        "    return nn.MSELoss(input,target) + Lambda*self.weights\n",
        "\n",
        "# Setip the optimizer\n",
        "optimizer= torch.optim.SGD(params=model_ridge.parameters(),\n",
        "                           lr=0.01)"
      ],
      "metadata": {
        "id": "Kvts53bhL5hI"
      },
      "execution_count": 93,
      "outputs": []
    },
    {
      "cell_type": "code",
      "source": [
        "# writing the training loop\n",
        "\n",
        "torch.manual_seed(42)\n",
        "\n",
        "epochs=4200\n",
        "\n",
        "for epoch in range(epochs):\n",
        "  model_ridge.train()\n",
        "\n",
        "  # 1. Forward pass\n",
        "  y_pred=model_ridge(X_train)\n",
        "\n",
        "  # 2. Calculte the loss\n",
        "  loss= loss_fn()\n",
        "\n"
      ],
      "metadata": {
        "id": "jZvwlCsQUPHB"
      },
      "execution_count": null,
      "outputs": []
    }
  ]
}