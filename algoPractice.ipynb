{
  "nbformat": 4,
  "nbformat_minor": 0,
  "metadata": {
    "colab": {
      "provenance": [],
      "authorship_tag": "ABX9TyM/B5EZK3bwGX6QuyTLIC/Z",
      "include_colab_link": true
    },
    "kernelspec": {
      "name": "python3",
      "display_name": "Python 3"
    },
    "language_info": {
      "name": "python"
    }
  },
  "cells": [
    {
      "cell_type": "markdown",
      "metadata": {
        "id": "view-in-github",
        "colab_type": "text"
      },
      "source": [
        "<a href=\"https://colab.research.google.com/github/prathameshk30/PyTorch-Algo-Practice/blob/main/algoPractice.ipynb\" target=\"_parent\"><img src=\"https://colab.research.google.com/assets/colab-badge.svg\" alt=\"Open In Colab\"/></a>"
      ]
    },
    {
      "cell_type": "code",
      "execution_count": 1,
      "metadata": {
        "id": "ztO71pKmwXFW"
      },
      "outputs": [],
      "source": [
        "import numpy as np"
      ]
    },
    {
      "cell_type": "code",
      "source": [
        "def WeirdAlgo(num: int):\n",
        "  emptyList=[]\n",
        "  def mainAlgo(num):\n",
        "    if num ==1:\n",
        "      emptyList.append(num)\n",
        "    elif num % 2 !=0:\n",
        "      a= (num*3)+1\n",
        "      emptyList.append(a)\n",
        "      mainAlgo(a)\n",
        "    elif num % 2==0:\n",
        "      b= num / 2\n",
        "      emptyList.append(b)\n",
        "      mainAlgo(b)\n",
        "  mainAlgo(num)\n",
        "  return emptyList"
      ],
      "metadata": {
        "id": "VLxFFpG3wYhl"
      },
      "execution_count": 41,
      "outputs": []
    },
    {
      "cell_type": "code",
      "source": [
        "%time\n",
        "WeirdAlgo(150)"
      ],
      "metadata": {
        "colab": {
          "base_uri": "https://localhost:8080/"
        },
        "id": "vN5HozWVyfk9",
        "outputId": "f706dff2-0a80-46b0-e63a-00f69d2656e7"
      },
      "execution_count": 50,
      "outputs": [
        {
          "output_type": "stream",
          "name": "stdout",
          "text": [
            "CPU times: user 4 µs, sys: 0 ns, total: 4 µs\n",
            "Wall time: 8.82 µs\n"
          ]
        },
        {
          "output_type": "execute_result",
          "data": {
            "text/plain": [
              "[75.0,\n",
              " 226.0,\n",
              " 113.0,\n",
              " 340.0,\n",
              " 170.0,\n",
              " 85.0,\n",
              " 256.0,\n",
              " 128.0,\n",
              " 64.0,\n",
              " 32.0,\n",
              " 16.0,\n",
              " 8.0,\n",
              " 4.0,\n",
              " 2.0,\n",
              " 1.0,\n",
              " 1.0]"
            ]
          },
          "metadata": {},
          "execution_count": 50
        }
      ]
    },
    {
      "cell_type": "code",
      "source": [
        "def missingNumber(listInt: list[int]):\n",
        "  sortedList=sorted(listInt)\n",
        "  maxVal= max(sortedList)\n",
        "  for val in range(len(sortedList)-1):\n",
        "    if maxVal - val in sortedList:\n",
        "      continue\n",
        "    else:\n",
        "      return maxVal - val"
      ],
      "metadata": {
        "id": "0hzHXlaByiFe"
      },
      "execution_count": 57,
      "outputs": []
    },
    {
      "cell_type": "code",
      "source": [
        "%time\n",
        "missingNumber([2,6,3,4,8,5,1])"
      ],
      "metadata": {
        "colab": {
          "base_uri": "https://localhost:8080/"
        },
        "id": "Qer5Fq5w4Nii",
        "outputId": "34ceb9e8-d9ce-47cf-ef04-06150aef8a3b"
      },
      "execution_count": 58,
      "outputs": [
        {
          "output_type": "stream",
          "name": "stdout",
          "text": [
            "CPU times: user 3 µs, sys: 0 ns, total: 3 µs\n",
            "Wall time: 7.39 µs\n"
          ]
        },
        {
          "output_type": "execute_result",
          "data": {
            "text/plain": [
              "7"
            ]
          },
          "metadata": {},
          "execution_count": 58
        }
      ]
    },
    {
      "cell_type": "code",
      "source": [
        "def maxRepetitionSeq( strArr:str):\n",
        "  maxCount=1\n",
        "  for index in range(len(strArr)-1):\n",
        "    if strArr[index]==strArr[index+1] :\n",
        "      maxCount+= 1\n",
        "      continue\n",
        "  return maxCount"
      ],
      "metadata": {
        "id": "3xGvxXUy4WYu"
      },
      "execution_count": 23,
      "outputs": []
    },
    {
      "cell_type": "code",
      "source": [
        "%time\n",
        "maxRepetitionSeq('ahbaaaaaauinl')"
      ],
      "metadata": {
        "colab": {
          "base_uri": "https://localhost:8080/"
        },
        "id": "6X0ZrWQP8Ly4",
        "outputId": "e7761c6f-13db-4268-e0a9-65bdb2527804"
      },
      "execution_count": 24,
      "outputs": [
        {
          "output_type": "stream",
          "name": "stdout",
          "text": [
            "CPU times: user 3 µs, sys: 1 µs, total: 4 µs\n",
            "Wall time: 6.91 µs\n"
          ]
        },
        {
          "output_type": "execute_result",
          "data": {
            "text/plain": [
              "6"
            ]
          },
          "metadata": {},
          "execution_count": 24
        }
      ]
    },
    {
      "cell_type": "code",
      "source": [
        "def increaseArraySize(listNum: list[int]):\n",
        "  emptyList=[]\n",
        "  def mainAlgo(num1,num2):\n",
        "    if num1 > num2:\n",
        "      diffVal= num1- num2\n",
        "      return diffVal\n",
        "    else:\n",
        "      return 0\n",
        "\n",
        "  count=0\n",
        "  for val in range(1, len(listNum)):\n",
        "    count+= mainAlgo(listNum[val-1], listNum[val])\n",
        "  return count"
      ],
      "metadata": {
        "id": "TNtV1mmK8a75"
      },
      "execution_count": 126,
      "outputs": []
    },
    {
      "cell_type": "code",
      "source": [
        "%time\n",
        "increaseArraySize([2,3,1,5,4,2])"
      ],
      "metadata": {
        "colab": {
          "base_uri": "https://localhost:8080/"
        },
        "id": "eaYh40q_NKCU",
        "outputId": "149efee3-d609-4dea-fe6a-31e081647e0b"
      },
      "execution_count": 127,
      "outputs": [
        {
          "output_type": "stream",
          "name": "stdout",
          "text": [
            "CPU times: user 4 µs, sys: 0 ns, total: 4 µs\n",
            "Wall time: 7.39 µs\n"
          ]
        },
        {
          "output_type": "execute_result",
          "data": {
            "text/plain": [
              "5"
            ]
          },
          "metadata": {},
          "execution_count": 127
        }
      ]
    },
    {
      "cell_type": "code",
      "source": [
        "import regex as re\n",
        "\n",
        "def longestEvenLenWord(string: str):\n",
        "  listOfWords= [\"\".join(value) for value in [re.findall(r\"[A-z]\",string) for string in string.split(\" \") ]]\n",
        "  dict={}\n",
        "  for i in listOfWords:\n",
        "    dict[i] = len(i)\n",
        "  maxLen=0\n",
        "  for val in dict.values():\n",
        "    if val %2==0:\n",
        "      maxLen=val\n",
        "  # list out keys and values separately\n",
        "  key_list = list(dict.keys())\n",
        "  val_list = list(dict.values())\n",
        "\n",
        "  # print key with val 100\n",
        "  position = val_list.index(maxLen)\n",
        "  return position"
      ],
      "metadata": {
        "id": "MbAOT4t4FOqH"
      },
      "execution_count": 118,
      "outputs": []
    },
    {
      "cell_type": "code",
      "source": [
        "%time\n",
        "longestEvenLenWord(\"Hello my name is, prathamesh\")"
      ],
      "metadata": {
        "colab": {
          "base_uri": "https://localhost:8080/"
        },
        "id": "_Tk1y7bCg7tT",
        "outputId": "ab1ec384-9d8f-4115-d85a-a8cd5c568436"
      },
      "execution_count": 36,
      "outputs": [
        {
          "output_type": "stream",
          "name": "stdout",
          "text": [
            "CPU times: user 4 µs, sys: 1 µs, total: 5 µs\n",
            "Wall time: 6.91 µs\n"
          ]
        },
        {
          "output_type": "execute_result",
          "data": {
            "text/plain": [
              "4"
            ]
          },
          "metadata": {},
          "execution_count": 36
        }
      ]
    },
    {
      "cell_type": "code",
      "source": [],
      "metadata": {
        "id": "quDdwiZahA3N"
      },
      "execution_count": 59,
      "outputs": []
    },
    {
      "cell_type": "code",
      "source": [
        "mainAlgo(5,1)"
      ],
      "metadata": {
        "colab": {
          "base_uri": "https://localhost:8080/"
        },
        "id": "7U_e2KKTwOyG",
        "outputId": "93320e34-6895-4d82-f5d4-d216271f88d1"
      },
      "execution_count": 60,
      "outputs": [
        {
          "output_type": "execute_result",
          "data": {
            "text/plain": [
              "0"
            ]
          },
          "metadata": {},
          "execution_count": 60
        }
      ]
    },
    {
      "cell_type": "code",
      "source": [],
      "metadata": {
        "id": "LdeGIwp2wR82"
      },
      "execution_count": null,
      "outputs": []
    }
  ]
}