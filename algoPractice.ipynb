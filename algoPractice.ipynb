{
  "nbformat": 4,
  "nbformat_minor": 0,
  "metadata": {
    "colab": {
      "provenance": [],
      "authorship_tag": "ABX9TyM7Plp9eYfVzBnb+pKpQc2u",
      "include_colab_link": true
    },
    "kernelspec": {
      "name": "python3",
      "display_name": "Python 3"
    },
    "language_info": {
      "name": "python"
    }
  },
  "cells": [
    {
      "cell_type": "markdown",
      "metadata": {
        "id": "view-in-github",
        "colab_type": "text"
      },
      "source": [
        "<a href=\"https://colab.research.google.com/github/prathameshk30/PyTorch-Algo-Intro/blob/main/algoPractice.ipynb\" target=\"_parent\"><img src=\"https://colab.research.google.com/assets/colab-badge.svg\" alt=\"Open In Colab\"/></a>"
      ]
    },
    {
      "cell_type": "code",
      "execution_count": 1,
      "metadata": {
        "id": "ztO71pKmwXFW"
      },
      "outputs": [],
      "source": [
        "import numpy as np"
      ]
    },
    {
      "cell_type": "code",
      "source": [
        "def WeirdAlgo(num: int):\n",
        "  emptyList=[]\n",
        "  def mainAlgo(num):\n",
        "    if num ==1:\n",
        "      emptyList.append(num)\n",
        "    elif num % 2 !=0:\n",
        "      a= (num*3)+1\n",
        "      emptyList.append(a)\n",
        "      mainAlgo(a)\n",
        "    elif num % 2==0:\n",
        "      b= num / 2\n",
        "      emptyList.append(b)\n",
        "      mainAlgo(b)\n",
        "  mainAlgo(num)\n",
        "  return emptyList"
      ],
      "metadata": {
        "id": "VLxFFpG3wYhl"
      },
      "execution_count": 41,
      "outputs": []
    },
    {
      "cell_type": "code",
      "source": [
        "%time\n",
        "WeirdAlgo(150)"
      ],
      "metadata": {
        "colab": {
          "base_uri": "https://localhost:8080/"
        },
        "id": "vN5HozWVyfk9",
        "outputId": "f706dff2-0a80-46b0-e63a-00f69d2656e7"
      },
      "execution_count": 50,
      "outputs": [
        {
          "output_type": "stream",
          "name": "stdout",
          "text": [
            "CPU times: user 4 µs, sys: 0 ns, total: 4 µs\n",
            "Wall time: 8.82 µs\n"
          ]
        },
        {
          "output_type": "execute_result",
          "data": {
            "text/plain": [
              "[75.0,\n",
              " 226.0,\n",
              " 113.0,\n",
              " 340.0,\n",
              " 170.0,\n",
              " 85.0,\n",
              " 256.0,\n",
              " 128.0,\n",
              " 64.0,\n",
              " 32.0,\n",
              " 16.0,\n",
              " 8.0,\n",
              " 4.0,\n",
              " 2.0,\n",
              " 1.0,\n",
              " 1.0]"
            ]
          },
          "metadata": {},
          "execution_count": 50
        }
      ]
    },
    {
      "cell_type": "code",
      "source": [
        "def missingNumber(listInt: list[int]):\n",
        "  sortedList=sorted(listInt)\n",
        "  maxVal= max(sortedList)\n",
        "  for val in range(len(sortedList)-1):\n",
        "    if maxVal - val in sortedList:\n",
        "      continue\n",
        "    else:\n",
        "      return maxVal - val"
      ],
      "metadata": {
        "id": "0hzHXlaByiFe"
      },
      "execution_count": 57,
      "outputs": []
    },
    {
      "cell_type": "code",
      "source": [
        "%time\n",
        "missingNumber([2,6,3,4,8,5,1])"
      ],
      "metadata": {
        "colab": {
          "base_uri": "https://localhost:8080/"
        },
        "id": "Qer5Fq5w4Nii",
        "outputId": "34ceb9e8-d9ce-47cf-ef04-06150aef8a3b"
      },
      "execution_count": 58,
      "outputs": [
        {
          "output_type": "stream",
          "name": "stdout",
          "text": [
            "CPU times: user 3 µs, sys: 0 ns, total: 3 µs\n",
            "Wall time: 7.39 µs\n"
          ]
        },
        {
          "output_type": "execute_result",
          "data": {
            "text/plain": [
              "7"
            ]
          },
          "metadata": {},
          "execution_count": 58
        }
      ]
    },
    {
      "cell_type": "code",
      "source": [
        "def maxRepetitionSeq( strArr:str):\n",
        "  maxCount=1\n",
        "  for index in range(len(strArr)-1):\n",
        "    if strArr[index]==strArr[index+1] :\n",
        "      maxCount+= 1\n",
        "      continue\n",
        "  return maxCount"
      ],
      "metadata": {
        "id": "3xGvxXUy4WYu"
      },
      "execution_count": 80,
      "outputs": []
    },
    {
      "cell_type": "code",
      "source": [
        "%time\n",
        "maxRepetitionSeq('ahbaaauinl')"
      ],
      "metadata": {
        "colab": {
          "base_uri": "https://localhost:8080/"
        },
        "id": "6X0ZrWQP8Ly4",
        "outputId": "5c2d51a1-d44e-4674-ae3a-c71e8f74d3de"
      },
      "execution_count": 82,
      "outputs": [
        {
          "output_type": "stream",
          "name": "stdout",
          "text": [
            "CPU times: user 4 µs, sys: 0 ns, total: 4 µs\n",
            "Wall time: 8.34 µs\n"
          ]
        },
        {
          "output_type": "execute_result",
          "data": {
            "text/plain": [
              "3"
            ]
          },
          "metadata": {},
          "execution_count": 82
        }
      ]
    },
    {
      "cell_type": "code",
      "source": [],
      "metadata": {
        "id": "TNtV1mmK8a75"
      },
      "execution_count": null,
      "outputs": []
    }
  ]
}